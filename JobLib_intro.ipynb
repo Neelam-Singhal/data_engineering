{
 "cells": [
  {
   "cell_type": "markdown",
   "metadata": {},
   "source": [
    "## Joblib\n",
    "This is used for parallel processing the forloop to improve run time.\n"
   ]
  },
  {
   "cell_type": "code",
   "execution_count": 1,
   "metadata": {},
   "outputs": [],
   "source": [
    "import numpy as np\n",
    "import matplotlib.pyplot as plt\n",
    "import time\n",
    "from datetime import datetime\n",
    "from joblib import Parallel, delayed"
   ]
  },
  {
   "cell_type": "code",
   "execution_count": 2,
   "metadata": {},
   "outputs": [],
   "source": [
    "def square(x):\n",
    "    time.sleep(1)  # Adding extra time to ensure we see the difference\n",
    "    return x*x"
   ]
  },
  {
   "cell_type": "code",
   "execution_count": 3,
   "metadata": {},
   "outputs": [
    {
     "name": "stdout",
     "output_type": "stream",
     "text": [
      "0\n",
      "1\n",
      "4\n",
      "9\n",
      "16\n",
      "25\n",
      "36\n",
      "49\n",
      "64\n",
      "81\n",
      "Time taken: 0:00:10.096081\n"
     ]
    }
   ],
   "source": [
    "# Calling the for loop\n",
    "start = datetime.now()\n",
    "for i in range(10):\n",
    "    print(square(i))\n",
    "end = datetime.now()\n",
    "\n",
    "print(f'Time taken: {end-start}')"
   ]
  },
  {
   "cell_type": "code",
   "execution_count": 4,
   "metadata": {},
   "outputs": [
    {
     "name": "stdout",
     "output_type": "stream",
     "text": [
      "Time taken: 0:00:06.081070\n"
     ]
    }
   ],
   "source": [
    "# Calling the for loop, using 2 cores\n",
    "start = datetime.now()\n",
    "def parallel_example(i):\n",
    "    return square(i)\n",
    "\n",
    "out = Parallel(n_jobs=2)(delayed(parallel_example)(i) for i in range(10))\n",
    "end = datetime.now()\n",
    "\n",
    "print(f'Time taken: {end-start}')\n",
    "# Timetaken has decreased significantly"
   ]
  },
  {
   "cell_type": "code",
   "execution_count": 5,
   "metadata": {},
   "outputs": [
    {
     "data": {
      "text/plain": [
       "[0, 1, 4, 9, 16, 25, 36, 49, 64, 81]"
      ]
     },
     "execution_count": 5,
     "metadata": {},
     "output_type": "execute_result"
    }
   ],
   "source": [
    "# Printing out the results\n",
    "out"
   ]
  },
  {
   "cell_type": "code",
   "execution_count": 7,
   "metadata": {},
   "outputs": [
    {
     "name": "stdout",
     "output_type": "stream",
     "text": [
      "Time taken: 0:00:02.096398\n"
     ]
    }
   ],
   "source": [
    "# Calling the for loop, using all the cores\n",
    "start = datetime.now()\n",
    "def parallel_example(i):\n",
    "    return square(i)\n",
    "\n",
    "out = Parallel(n_jobs=10)(delayed(parallel_example)(i) for i in range(10))\n",
    "end = datetime.now()\n",
    "\n",
    "print(f'Time taken: {end-start}')"
   ]
  },
  {
   "cell_type": "code",
   "execution_count": 48,
   "metadata": {},
   "outputs": [
    {
     "data": {
      "text/plain": [
       "[0, 1, 4, 9, 16, 25, 36, 49, 64, 81]"
      ]
     },
     "execution_count": 48,
     "metadata": {},
     "output_type": "execute_result"
    }
   ],
   "source": [
    "out"
   ]
  },
  {
   "cell_type": "code",
   "execution_count": null,
   "metadata": {},
   "outputs": [],
   "source": []
  },
  {
   "cell_type": "code",
   "execution_count": null,
   "metadata": {},
   "outputs": [],
   "source": []
  },
  {
   "cell_type": "code",
   "execution_count": null,
   "metadata": {},
   "outputs": [],
   "source": []
  }
 ],
 "metadata": {
  "kernelspec": {
   "display_name": "Python 3.8.2 64-bit",
   "language": "python",
   "name": "python3"
  },
  "language_info": {
   "codemirror_mode": {
    "name": "ipython",
    "version": 3
   },
   "file_extension": ".py",
   "mimetype": "text/x-python",
   "name": "python",
   "nbconvert_exporter": "python",
   "pygments_lexer": "ipython3",
   "version": "3.8.2"
  },
  "orig_nbformat": 4,
  "vscode": {
   "interpreter": {
    "hash": "0fe3838258199320b47f592266ee39ff232e1cc78af3842677f1841b6d97fbd1"
   }
  }
 },
 "nbformat": 4,
 "nbformat_minor": 2
}
